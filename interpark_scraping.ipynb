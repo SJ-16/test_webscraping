{
 "cells": [
  {
   "cell_type": "code",
   "execution_count": 1,
   "id": "39cb6a28",
   "metadata": {},
   "outputs": [],
   "source": [
    "from selenium import webdriver"
   ]
  },
  {
   "cell_type": "code",
   "execution_count": 4,
   "id": "3aa22dd3",
   "metadata": {},
   "outputs": [],
   "source": [
    "browser = webdriver.Chrome('./chromedriver.exe')"
   ]
  },
  {
   "cell_type": "code",
   "execution_count": 8,
   "id": "0809be25",
   "metadata": {},
   "outputs": [],
   "source": [
    "browser.get('http://ticket.interpark.com/Contents/Ranking?smid1=s_menu&smid2=performance')"
   ]
  },
  {
   "cell_type": "code",
   "execution_count": 9,
   "id": "2f67d368",
   "metadata": {},
   "outputs": [],
   "source": [
    "html = browser.page_source"
   ]
  },
  {
   "cell_type": "code",
   "execution_count": 6,
   "id": "9d0a7784",
   "metadata": {},
   "outputs": [],
   "source": [
    "from bs4 import BeautifulSoup"
   ]
  },
  {
   "cell_type": "code",
   "execution_count": 10,
   "id": "823f6446",
   "metadata": {},
   "outputs": [],
   "source": [
    "soup = BeautifulSoup(html, 'html.parser')"
   ]
  },
  {
   "cell_type": "code",
   "execution_count": 11,
   "id": "545a13ce",
   "metadata": {},
   "outputs": [
    {
     "data": {
      "text/plain": [
       "(1, bs4.BeautifulSoup)"
      ]
     },
     "execution_count": 11,
     "metadata": {},
     "output_type": "execute_result"
    }
   ],
   "source": [
    "len(soup), type(soup)"
   ]
  },
  {
   "cell_type": "code",
   "execution_count": 12,
   "id": "d165f554",
   "metadata": {},
   "outputs": [],
   "source": [
    "tags = soup.select('div.rankingGenre')"
   ]
  },
  {
   "cell_type": "code",
   "execution_count": 14,
   "id": "fa79f3b3",
   "metadata": {},
   "outputs": [
    {
     "data": {
      "text/plain": [
       "8"
      ]
     },
     "execution_count": 14,
     "metadata": {},
     "output_type": "execute_result"
    }
   ],
   "source": [
    "len(tags)"
   ]
  },
  {
   "cell_type": "code",
   "execution_count": 15,
   "id": "6ab796c1",
   "metadata": {},
   "outputs": [],
   "source": [
    "tag = tags[0]"
   ]
  },
  {
   "cell_type": "code",
   "execution_count": 21,
   "id": "422e42bc",
   "metadata": {},
   "outputs": [],
   "source": [
    "category = tag.select('div.genreTitle')"
   ]
  },
  {
   "cell_type": "code",
   "execution_count": 41,
   "id": "06428e1f",
   "metadata": {},
   "outputs": [],
   "source": [
    "title = tag.select('div.genreItems > div.itemWrap > div.items> ul> li > a.prdDuration')"
   ]
  },
  {
   "cell_type": "code",
   "execution_count": 42,
   "id": "9fbedd4b",
   "metadata": {},
   "outputs": [
    {
     "data": {
      "text/plain": [
       "(25, bs4.element.ResultSet)"
      ]
     },
     "execution_count": 42,
     "metadata": {},
     "output_type": "execute_result"
    }
   ],
   "source": [
    "len(title), type(title)"
   ]
  },
  {
   "cell_type": "code",
   "execution_count": 33,
   "id": "1c978a1b",
   "metadata": {},
   "outputs": [
    {
     "data": {
      "text/plain": [
       "'뮤지컬 〈라 레볼뤼시옹〉'"
      ]
     },
     "execution_count": 33,
     "metadata": {},
     "output_type": "execute_result"
    }
   ],
   "source": [
    "title[0].text.strip()"
   ]
  },
  {
   "cell_type": "code",
   "execution_count": 44,
   "id": "31fb20fd",
   "metadata": {},
   "outputs": [
    {
     "data": {
      "text/plain": [
       "25"
      ]
     },
     "execution_count": 44,
     "metadata": {},
     "output_type": "execute_result"
    }
   ],
   "source": [
    "data_range = tag.select('a.prdDuration')"
   ]
  },
  {
   "cell_type": "code",
   "execution_count": 35,
   "id": "8c24b1b9",
   "metadata": {},
   "outputs": [
    {
     "data": {
      "text/plain": [
       "'05.18~08.01'"
      ]
     },
     "execution_count": 35,
     "metadata": {},
     "output_type": "execute_result"
    }
   ],
   "source": [
    "data_range[0].text.strip()"
   ]
  },
  {
   "cell_type": "code",
   "execution_count": 43,
   "id": "8f42c39d",
   "metadata": {},
   "outputs": [
    {
     "data": {
      "text/plain": [
       "8"
      ]
     },
     "execution_count": 43,
     "metadata": {},
     "output_type": "execute_result"
    }
   ],
   "source": [
    "contents=list ()\n",
    "for tag in tags:\n",
    "    title = tag.select('a.prdName')\n",
    "    data_range = tag.select('a.prdDuration')\n",
    "#     print(title[0].text.strip(), data_range[0].text.strip())\n",
    "    contents.append([title[0].text.strip(), data_range[0].text.strip()])\n",
    "\n",
    "contents"
   ]
  },
  {
   "cell_type": "code",
   "execution_count": 45,
   "id": "4fda9c69",
   "metadata": {},
   "outputs": [],
   "source": [
    "import pandas as pd"
   ]
  },
  {
   "cell_type": "code",
   "execution_count": 46,
   "id": "cb1aef4d",
   "metadata": {},
   "outputs": [
    {
     "data": {
      "text/html": [
       "<div>\n",
       "<style scoped>\n",
       "    .dataframe tbody tr th:only-of-type {\n",
       "        vertical-align: middle;\n",
       "    }\n",
       "\n",
       "    .dataframe tbody tr th {\n",
       "        vertical-align: top;\n",
       "    }\n",
       "\n",
       "    .dataframe thead th {\n",
       "        text-align: right;\n",
       "    }\n",
       "</style>\n",
       "<table border=\"1\" class=\"dataframe\">\n",
       "  <thead>\n",
       "    <tr style=\"text-align: right;\">\n",
       "      <th></th>\n",
       "      <th>title</th>\n",
       "      <th>data_range</th>\n",
       "    </tr>\n",
       "  </thead>\n",
       "  <tbody>\n",
       "    <tr>\n",
       "      <th>0</th>\n",
       "      <td>뮤지컬 〈라 레볼뤼시옹〉</td>\n",
       "      <td>05.18~08.01</td>\n",
       "    </tr>\n",
       "    <tr>\n",
       "      <th>1</th>\n",
       "      <td>2021 SOMEDAY THEATRE CANTABILE ＃3</td>\n",
       "      <td>07.09~07.11</td>\n",
       "    </tr>\n",
       "    <tr>\n",
       "      <th>2</th>\n",
       "      <td>공포연극 〈조각〉</td>\n",
       "      <td>06.29~07.31</td>\n",
       "    </tr>\n",
       "    <tr>\n",
       "      <th>3</th>\n",
       "      <td>KT와 함께하는 예술의전당 마음을 담은 클래식(7월)</td>\n",
       "      <td>07.23~07.23</td>\n",
       "    </tr>\n",
       "    <tr>\n",
       "      <th>4</th>\n",
       "      <td>2021 The Esports Night 철권7 팀리그 (6.25)</td>\n",
       "      <td>06.25~06.25</td>\n",
       "    </tr>\n",
       "    <tr>\n",
       "      <th>5</th>\n",
       "      <td>2021 함양 대봉스카이랜드 ( 모노레일＆짚라인 ) (21.07 ~)</td>\n",
       "      <td>07.01~07.31</td>\n",
       "    </tr>\n",
       "    <tr>\n",
       "      <th>6</th>\n",
       "      <td>마르첼로 바렌기展</td>\n",
       "      <td>04.24~08.22</td>\n",
       "    </tr>\n",
       "    <tr>\n",
       "      <th>7</th>\n",
       "      <td>음악극 〈리틀뮤지션〉 2021 예술의전당 어린이 가족 페스티벌</td>\n",
       "      <td>08.12~08.22</td>\n",
       "    </tr>\n",
       "  </tbody>\n",
       "</table>\n",
       "</div>"
      ],
      "text/plain": [
       "                                    title   data_range\n",
       "0                           뮤지컬 〈라 레볼뤼시옹〉  05.18~08.01\n",
       "1       2021 SOMEDAY THEATRE CANTABILE ＃3  07.09~07.11\n",
       "2                               공포연극 〈조각〉  06.29~07.31\n",
       "3           KT와 함께하는 예술의전당 마음을 담은 클래식(7월)  07.23~07.23\n",
       "4   2021 The Esports Night 철권7 팀리그 (6.25)  06.25~06.25\n",
       "5  2021 함양 대봉스카이랜드 ( 모노레일＆짚라인 ) (21.07 ~)  07.01~07.31\n",
       "6                               마르첼로 바렌기展  04.24~08.22\n",
       "7      음악극 〈리틀뮤지션〉 2021 예술의전당 어린이 가족 페스티벌  08.12~08.22"
      ]
     },
     "execution_count": 46,
     "metadata": {},
     "output_type": "execute_result"
    }
   ],
   "source": [
    "pd_data = pd.DataFrame(contents, columns=['title', 'data_range'])\n",
    "pd_data"
   ]
  },
  {
   "cell_type": "code",
   "execution_count": 47,
   "id": "247b63bd",
   "metadata": {},
   "outputs": [],
   "source": [
    "pd_data.to_excel('./saves/genie_scraping.xls', index=False)"
   ]
  },
  {
   "cell_type": "code",
   "execution_count": null,
   "id": "a2ecc442",
   "metadata": {},
   "outputs": [],
   "source": []
  }
 ],
 "metadata": {
  "kernelspec": {
   "display_name": "Python 3",
   "language": "python",
   "name": "python3"
  },
  "language_info": {
   "codemirror_mode": {
    "name": "ipython",
    "version": 3
   },
   "file_extension": ".py",
   "mimetype": "text/x-python",
   "name": "python",
   "nbconvert_exporter": "python",
   "pygments_lexer": "ipython3",
   "version": "3.6.4"
  }
 },
 "nbformat": 4,
 "nbformat_minor": 5
}
